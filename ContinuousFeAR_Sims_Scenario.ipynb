{
 "cells": [
  {
   "cell_type": "markdown",
   "id": "3f1130a3",
   "metadata": {},
   "source": [
    "# Continuous FeAR - N agents\n"
   ]
  },
  {
   "cell_type": "code",
   "execution_count": null,
   "id": "eb0393fd",
   "metadata": {},
   "outputs": [],
   "source": [
    "%%capture\n",
    "%matplotlib inline\n",
    "\n",
    "\n",
    "import ContinuousFeAR as cfear\n",
    "import Plot_cFeAR as plotcf\n",
    "import PlotGWorld\n",
    "import numpy as np; np.random.seed(0)\n",
    "import os\n"
   ]
  },
  {
   "cell_type": "markdown",
   "id": "b319dce9",
   "metadata": {},
   "source": [
    "## Hyper parameters"
   ]
  },
  {
   "cell_type": "code",
   "execution_count": null,
   "id": "a283d4eb",
   "metadata": {},
   "outputs": [],
   "source": [
    "# Hyper Parameters\n",
    "\n",
    "l = 2\n",
    "T_ACTION=5\n",
    "N_TIMESTEPS=10\n",
    "\n",
    "A_NUM = 10\n",
    "THETA_NUM = 32\n",
    "\n",
    "A_MIN = 0\n",
    "A_MAX = 5\n",
    "\n",
    "THETA_MIN = -np.pi\n",
    "THETA_MAX = np.pi\n",
    "\n",
    "# COLLISION_FREE_TRAJS = True\n",
    "COLLISION_FREE_TRAJS = False\n",
    "\n",
    "INCLUDE_OBSTACLE = True\n",
    "# INCLUDE_OBSTACLE = False\n",
    "\n",
    "# COMPUTE_MDRS =True\n",
    "COMPUTE_MDRS =False\n",
    "\n",
    "# SAVE_RESULTS = False\n",
    "SAVE_RESULTS = True\n",
    "\n",
    "FEAR_GRIDSEARCH = False\n",
    "# FEAR_GRIDSEARCH = True"
   ]
  },
  {
   "cell_type": "markdown",
   "id": "355fc90e",
   "metadata": {},
   "source": [
    "## Scenario"
   ]
  },
  {
   "cell_type": "code",
   "execution_count": null,
   "id": "7b3d7b09",
   "metadata": {},
   "outputs": [],
   "source": [
    "scenarios_json_file = 'Scenarios4cFeAR.json'\n",
    "\n",
    "\n",
    "scenario_name = 'Collision_Check_Illustration_2Agents_U_turn_2'\n",
    "\n",
    "# scenario_name = 'CS1_lane_CC'\n",
    "# scenario_name = 'CS2_lane_AC'\n",
    "# scenario_name = 'CS3_lane_AA'\n",
    "# scenario_name = 'CS7_lane_obstacle'\n",
    "\n",
    "# scenario_name = 'CS4_intersection_collision_12'\n",
    "# scenario_name = 'CS5_intersection_collision_00'\n",
    "# scenario_name = 'CS6_intersection_collision_23'\n",
    "# scenario_name = 'CS8_intersection_obstacles'\n",
    "\n",
    "# scenario_name = 'CS9_crossing_slow_assertive'\n",
    "# scenario_name = 'CS10_crossing_fast_courteous'\n",
    "\n",
    "# scenario_name = 'CS11_parallel'\n",
    "# scenario_name = 'CS12_causal_overdeterminism'\n",
    "\n",
    "# scenario_name = '8Agents_RoundAbout_Intersection_compact_13'\n"
   ]
  },
  {
   "cell_type": "code",
   "execution_count": null,
   "id": "d4cffd16",
   "metadata": {
    "scrolled": true
   },
   "outputs": [],
   "source": [
    "base_params = {\n",
    "    't_action': T_ACTION,\n",
    "    'n_timesteps': N_TIMESTEPS,\n",
    "    'collision_free_trajs': COLLISION_FREE_TRAJS,\n",
    "    'compute_mdrs': COMPUTE_MDRS,\n",
    "    'a_min': A_MIN,\n",
    "    'a_max': A_MAX,\n",
    "    'a_num': A_NUM,\n",
    "    'theta_min': THETA_MIN,\n",
    "    'theta_max': THETA_MAX,\n",
    "    'theta_num': THETA_NUM\n",
    "}"
   ]
  },
  {
   "cell_type": "code",
   "execution_count": null,
   "id": "e6d9747a",
   "metadata": {
    "scrolled": true
   },
   "outputs": [],
   "source": [
    "values = [10]\n",
    "\n",
    "\n",
    "# Varying a_num\n",
    "results = cfear.hyper_fear('a_num', values, base_params, scenarios_json_file, scenario_name, return_feasibility=True)"
   ]
  },
  {
   "cell_type": "code",
   "execution_count": null,
   "id": "514cbd78",
   "metadata": {
    "scrolled": true
   },
   "outputs": [],
   "source": [
    "if FEAR_GRIDSEARCH:\n",
    "#     grid_search_actors = [1] # Use this for cases with fewer agents \n",
    "    grid_search_actors = [1,2,3]\n",
    "    \n",
    "    fear_grid_search = {}\n",
    "    \n",
    "    for actor in grid_search_actors:\n",
    "\n",
    "        fears_by_actor, actor_as, actor_thetas, collisions_4_actor=cfear.gridsearch_fear_by_actor_for_scenario(\n",
    "            actor=actor,scenarios_json_file=scenarios_json_file,\n",
    "            scenario_name=scenario_name,\n",
    "            t_action=T_ACTION, n_timesteps=N_TIMESTEPS,\n",
    "            collision_free_trajs=COLLISION_FREE_TRAJS,\n",
    "            compute_mdrs=COMPUTE_MDRS,\n",
    "            a_min=A_MIN, a_max=A_MAX, a_num=A_NUM,\n",
    "            theta_min=THETA_MIN, theta_max=THETA_MAX, theta_num=THETA_NUM,\n",
    "            check_collisions=True\n",
    "        )\n",
    "        print(f'{fears_by_actor=}')\n",
    "\n",
    "        fear_grid_search_actor = {\n",
    "            'fears_by_actor': fears_by_actor,\n",
    "            'actor_as': actor_as,\n",
    "            'actor_thetas': actor_thetas,\n",
    "            'collisions_4_actor': collisions_4_actor\n",
    "        }\n",
    "\n",
    "        fear_grid_search[str(actor)] = fear_grid_search_actor\n",
    "\n",
    "    results['fear_grid_search'] = fear_grid_search"
   ]
  },
  {
   "cell_type": "code",
   "execution_count": null,
   "id": "06aa66ea",
   "metadata": {
    "scrolled": false
   },
   "outputs": [],
   "source": [
    "if SAVE_RESULTS:\n",
    "    saved_file = cfear.name_and_save_results(results)\n",
    "else:\n",
    "    saved_file = None    \n",
    "\n",
    "\n",
    "plotcf.plt.show()\n",
    "print('\\n---------------------------------------------')\n",
    "print(results['fear_values'])\n",
    "print('---------------------------------------------')\n",
    "\n",
    "\n",
    "for fear in results['fear_values']:\n",
    "    plotcf.plot_fear(fear=fear)"
   ]
  },
  {
   "cell_type": "code",
   "execution_count": null,
   "id": "5cacaf86",
   "metadata": {},
   "outputs": [],
   "source": [
    "print(f'{results.keys()=}')\n",
    "\n",
    "\n",
    "print('\\n\\n')\n",
    "for key in results.keys():\n",
    "    print(key)\n",
    "print('\\n\\n')\n"
   ]
  },
  {
   "cell_type": "code",
   "execution_count": null,
   "id": "f7c28270",
   "metadata": {},
   "outputs": [],
   "source": [
    "print(results['mdrs'])"
   ]
  },
  {
   "cell_type": "code",
   "execution_count": null,
   "id": "8b634e03",
   "metadata": {
    "scrolled": false
   },
   "outputs": [],
   "source": [
    "if saved_file:\n",
    "\n",
    "    folder = 'FeAR_Results'\n",
    "    results_file_path = os.path.join(folder,saved_file)\n",
    "\n",
    "    cfear.read_and_plot_results(results_file_path=results_file_path, plot_scenario=True, plot_feasible_action_and_cofiguration_spaces_=False)"
   ]
  },
  {
   "cell_type": "code",
   "execution_count": null,
   "id": "5a6e4f73",
   "metadata": {
    "scrolled": true
   },
   "outputs": [],
   "source": [
    "print(results['fear_values'])"
   ]
  }
 ],
 "metadata": {
  "kernelspec": {
   "display_name": "Python 3 (ipykernel)",
   "language": "python",
   "name": "python3"
  },
  "language_info": {
   "codemirror_mode": {
    "name": "ipython",
    "version": 3
   },
   "file_extension": ".py",
   "mimetype": "text/x-python",
   "name": "python",
   "nbconvert_exporter": "python",
   "pygments_lexer": "ipython3",
   "version": "3.8.8"
  }
 },
 "nbformat": 4,
 "nbformat_minor": 5
}