{
 "cells": [
  {
   "cell_type": "markdown",
   "id": "3f1130a3",
   "metadata": {},
   "source": [
    "# Continuous FeAR - N agents\n"
   ]
  },
  {
   "cell_type": "code",
   "execution_count": null,
   "id": "eb0393fd",
   "metadata": {},
   "outputs": [],
   "source": [
    "%%capture\n",
    "%matplotlib inline\n",
    "\n",
    "import ContinuousFeAR as cfear\n",
    "import Plot_cFeAR as plotcf\n",
    "import PlotGWorld\n",
    "import copy\n",
    "import numpy as np; np.random.seed(0)"
   ]
  },
  {
   "cell_type": "markdown",
   "id": "b319dce9",
   "metadata": {},
   "source": [
    "## Hyper parameters"
   ]
  },
  {
   "cell_type": "code",
   "execution_count": null,
   "id": "a283d4eb",
   "metadata": {},
   "outputs": [],
   "source": [
    "# Hyper Parameters\n",
    "\n",
    "l = 2\n",
    "T_ACTION=5\n",
    "N_TIMESTEPS=10\n",
    "\n",
    "A_NUM = 10\n",
    "THETA_NUM = 32\n",
    "\n",
    "A_MIN = 0\n",
    "A_MAX = 5\n",
    "\n",
    "THETA_MIN = -np.pi\n",
    "THETA_MAX = np.pi\n",
    "\n",
    "# COLLISION_FREE_TRAJS = True\n",
    "COLLISION_FREE_TRAJS = False\n",
    "\n",
    "INCLUDE_OBSTACLE = True\n",
    "# INCLUDE_OBSTACLE = False\n",
    "\n",
    "# COMPUTE_MDRS =True\n",
    "COMPUTE_MDRS = False\n",
    "\n",
    "# save_results =  False\n",
    "save_results =  True\n",
    "\n",
    "SKIP_DIAGONAL = False\n",
    "# SKIP_DIAGONAL = True"
   ]
  },
  {
   "cell_type": "markdown",
   "id": "355fc90e",
   "metadata": {},
   "source": [
    "## Scenario"
   ]
  },
  {
   "cell_type": "code",
   "execution_count": null,
   "id": "0e1d4bd9",
   "metadata": {},
   "outputs": [],
   "source": [
    "scenarios_json_file = 'Scenarios4cFeAR.json'"
   ]
  },
  {
   "cell_type": "code",
   "execution_count": null,
   "id": "1fc213c5",
   "metadata": {},
   "outputs": [],
   "source": [
    "scenario_names = ['3Agents_MdR_1',\n",
    "                  '3Agents_MdR_2',\n",
    "                  '3Agents_MdR_3',\n",
    "                  '3Agents_MdR_4',\n",
    "                  '3Agents_MdR_5' ]\n",
    "\n",
    "\n",
    "mdrs_list = []\n",
    "\n",
    "for scenario_name in scenario_names:\n",
    "    print(f'{scenario_name=}')\n",
    "    scenarios = cfear.Scenario.load_scenarios(scenarios_json_file)\n",
    "    scenario = scenarios[scenario_name]\n",
    "    a = scenario.a\n",
    "    theta = scenario.theta\n",
    "    \n",
    "    mdr = {'mdr_a': a,\n",
    "           'mdr_theta': theta}\n",
    "    mdrs_list.append(mdr)\n",
    "\n",
    "print(f'{mdrs_list=}')"
   ]
  },
  {
   "cell_type": "code",
   "execution_count": null,
   "id": "d4cffd16",
   "metadata": {
    "scrolled": true
   },
   "outputs": [],
   "source": [
    "base_params = {\n",
    "    't_action': T_ACTION,\n",
    "    'n_timesteps': N_TIMESTEPS,\n",
    "    'collision_free_trajs': COLLISION_FREE_TRAJS,\n",
    "    'compute_mdrs': COMPUTE_MDRS,\n",
    "    'a_min': A_MIN,\n",
    "    'a_max': A_MAX,\n",
    "    'a_num': A_NUM,\n",
    "    'theta_min': THETA_MIN,\n",
    "    'theta_max': THETA_MAX,\n",
    "    'theta_num': THETA_NUM\n",
    "}"
   ]
  },
  {
   "cell_type": "code",
   "execution_count": null,
   "id": "7b3d7b09",
   "metadata": {
    "scrolled": false
   },
   "outputs": [],
   "source": [
    "\n",
    "for ii, scenario_name in enumerate(scenario_names):    \n",
    "    values = copy.copy(mdrs_list)\n",
    "    \n",
    "    if SKIP_DIAGONAL:\n",
    "        print(f'{values=}')\n",
    "        print(f'{ii=}')\n",
    "        values.pop(ii)\n",
    "        \n",
    "    # Varying compute_mdrs\n",
    "    results = cfear.hyper_fear('compute_mdrs', values, base_params, scenarios_json_file, scenario_name, return_feasibility=True)\n",
    "\n",
    "    if save_results:\n",
    "        cfear.name_and_save_results(results)\n",
    "\n",
    "\n",
    "    plotcf.plt.show()\n",
    "    print('\\n---------------------------------------------')\n",
    "    print(results['fear_values'])\n",
    "    print('---------------------------------------------')\n",
    "\n",
    "\n",
    "    for fear in results['fear_values']:\n",
    "        plotcf.plot_fear(fear=fear)\n"
   ]
  },
  {
   "cell_type": "code",
   "execution_count": null,
   "id": "7056ffd3",
   "metadata": {},
   "outputs": [],
   "source": [
    "print('Done !')"
   ]
  }
 ],
 "metadata": {
  "kernelspec": {
   "display_name": "Python 3 (ipykernel)",
   "language": "python",
   "name": "python3"
  },
  "language_info": {
   "codemirror_mode": {
    "name": "ipython",
    "version": 3
   },
   "file_extension": ".py",
   "mimetype": "text/x-python",
   "name": "python",
   "nbconvert_exporter": "python",
   "pygments_lexer": "ipython3",
   "version": "3.8.8"
  }
 },
 "nbformat": 4,
 "nbformat_minor": 5
}
