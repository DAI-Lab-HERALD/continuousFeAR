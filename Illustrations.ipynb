{
 "cells": [
  {
   "cell_type": "markdown",
   "id": "3f1130a3",
   "metadata": {},
   "source": [
    "# Illustrations\n"
   ]
  },
  {
   "cell_type": "code",
   "execution_count": null,
   "id": "bdab8ab0",
   "metadata": {},
   "outputs": [],
   "source": [
    "%%capture\n",
    "%matplotlib inline\n",
    "\n",
    "import ContinuousFeAR as cfear\n",
    "import Plot_cFeAR as plotcf\n",
    "import PlotGWorld\n",
    "import numpy as np; np.random.seed(0)\n",
    "\n",
    "\n",
    "Save_Fig = True\n",
    "Save_Fig = False\n",
    "\n",
    "Plot_Scenario=True\n",
    "# Plot_Scenario=False\n",
    "\n",
    "# Plot_Boxes_and_Trajs = False\n",
    "Plot_Boxes_and_Trajs = True"
   ]
  },
  {
   "cell_type": "markdown",
   "id": "c99a91a9",
   "metadata": {},
   "source": [
    "## Running Example"
   ]
  },
  {
   "cell_type": "code",
   "execution_count": null,
   "id": "3add921f",
   "metadata": {
    "scrolled": true
   },
   "outputs": [],
   "source": [
    "quick_plots = False\n",
    "quick_plots = True\n",
    "\n",
    "plot_feasible_action_and_cofiguration_spaces_ = not quick_plots\n",
    "\n",
    "arrow_width = 0.45\n",
    "arrow_markersize = 10\n",
    "\n",
    "if Plot_Scenario:\n",
    "    import os \n",
    "\n",
    "    folder = 'FeAR_Results'\n",
    "\n",
    "    file = 'Collision_Check_Illustration_2Agents_U_turn_2-a_num-2025-01-06_00-04-50.pkl'\n",
    "\n",
    "    results_file_path = os.path.join(folder,file)\n",
    "    print(f'{results_file_path=}')\n",
    "\n",
    "    cfear.read_and_plot_results(results_file_path=results_file_path, plot_scenario=True,save_figs=Save_Fig,\n",
    "                                plot_boxes_and_trajs=Plot_Boxes_and_Trajs, scale_scenario_size=1,\n",
    "                                scale_velocities=3,\n",
    "                                arrow_width=arrow_width, arrow_markersize=arrow_markersize,\n",
    "                                match_scenario_lims=True,\n",
    "                                plot_feasible_action_and_cofiguration_spaces_=plot_feasible_action_and_cofiguration_spaces_,\n",
    "                                place_scenario_legend='extend_right_out')\n"
   ]
  },
  {
   "cell_type": "markdown",
   "id": "fb9a2cf0",
   "metadata": {},
   "source": [
    "## Collision check for action subset"
   ]
  },
  {
   "cell_type": "code",
   "execution_count": null,
   "id": "3b2e59dc",
   "metadata": {
    "scrolled": true
   },
   "outputs": [],
   "source": [
    "scenario_name = 'Collision_Check_Illustration_2Agents_U_turn_2'\n",
    "\n",
    "plotcf.illustrate_subspace_collision_check(theta_step_threshold=np.pi/2, a_step_threshold=10, title='', save_fig=Save_Fig, scenario_name=scenario_name)"
   ]
  },
  {
   "cell_type": "markdown",
   "id": "62ce2fa0",
   "metadata": {},
   "source": [
    "## Collision checks for each time interval"
   ]
  },
  {
   "cell_type": "code",
   "execution_count": null,
   "id": "1ccb2bcc",
   "metadata": {},
   "outputs": [],
   "source": [
    "# Hyper Parameters\n",
    "\n",
    "NN = 20\n",
    "\n",
    "T_ACTION=10\n",
    "N_TIMESTEPS=5\n",
    "\n",
    "A_NUM = 5\n",
    "THETA_NUM = 16\n",
    "\n",
    "A_MIN = 0\n",
    "A_MAX = 1\n",
    "\n",
    "THETA_MIN = -np.pi\n",
    "THETA_MAX = np.pi\n",
    "\n",
    "COLLISION_FREE_TRAJS = True\n",
    "# COLLISION_FREE_TRAJS = False\n",
    "\n",
    "INCLUDE_OBSTACLE = True\n",
    "# INCLUDE_OBSTACLE = False\n",
    "\n",
    "# ---------------------------------------------------------------------------- #\n",
    "\n",
    "# Obstacles\n",
    "\n",
    "if INCLUDE_OBSTACLE:\n",
    "    obstacles = []\n",
    "\n",
    "    obstacles.append(cfear.make_circle(x=0, y=0, radius=2))\n",
    "\n",
    "    c_offset = 15\n",
    "    lb = 5\n",
    "    obstacles.append(cfear.make_rectangle(x=c_offset, y=c_offset, lx=lb, ly=lb, theta=0))\n",
    "    obstacles.append(cfear.make_rectangle(x=-c_offset, y=c_offset, lx=lb, ly=lb, theta=0))\n",
    "    obstacles.append(cfear.make_rectangle(x=c_offset, y=-c_offset, lx=lb, ly=lb, theta=0))\n",
    "    obstacles.append(cfear.make_rectangle(x=-c_offset, y=-c_offset, lx=lb, ly=lb, theta=0))\n",
    "\n",
    "    obstacle = cfear.MultiPolygon(obstacles).buffer(0)\n",
    "\n",
    "else:\n",
    "    obstacle=None\n",
    "    \n",
    "# ---------------------------------------------------------------------------- #\n",
    "\n",
    "# Trajectories for N agents\n",
    "\n",
    "N = NN\n",
    "l = 1\n",
    "t_action=T_ACTION\n",
    "n_timesteps=N_TIMESTEPS\n",
    "\n",
    "\n",
    "\n",
    "x0_mean = 0\n",
    "x0_std = 10\n",
    "\n",
    "y0_mean = 0\n",
    "y0_std = 10\n",
    "\n",
    "v0x_mean = 0\n",
    "v0x_std = 1\n",
    "\n",
    "v0y_mean = 0\n",
    "v0y_std = 1\n",
    "\n",
    "a_mean = 0\n",
    "a_std = 0.2\n",
    "\n",
    "theta_mean = 0\n",
    "theta_std = np.pi/2\n",
    "\n",
    "# ----------------------------------------------------------------------------------------  #\n",
    "\n",
    "x0, y0 = cfear.generate_starting_locations(x0_mean=x0_mean, x0_std=x0_std, obstacle=obstacle,\n",
    "                                     y0_mean=y0_mean, y0_std=y0_std,\n",
    "                                     n=N, l=2*l)\n",
    "v0x = v0x_mean + v0x_std * np.random.randn(N, 1)\n",
    "v0y = v0y_mean + v0y_std * np.random.randn(N, 1)\n",
    "a = a_mean + a_std * np.random.randn(N, 1)\n",
    "theta = theta_mean + theta_std * np.random.randn(N, 1)\n",
    "\n",
    "# ----------------------------------------------------------------------------------------  #\n",
    "\n",
    "x_, y_, t_ = cfear.make_trajectories(x0=x0,y0=y0,v0x=v0x,v0y=v0y,a=a, theta=theta,\n",
    "                                 t_action=t_action, n_timesteps=n_timesteps)\n",
    "trajs_boxes = cfear.get_boxes_for_trajs(x_, y_, lx=l, ly=l)\n",
    "trajs_hulls = cfear.get_trajs_hulls(trajs_boxes)\n",
    "\n",
    "# ----------------------------------------------------------------------------------------  #"
   ]
  },
  {
   "cell_type": "code",
   "execution_count": null,
   "id": "e879cf71",
   "metadata": {},
   "outputs": [],
   "source": [
    "if COLLISION_FREE_TRAJS:\n",
    "    trajs_hulls, trajs_boxes = cfear.get_collision_free_trajs(trajs_hulls, trajs_boxes, obstacle=obstacle,\n",
    "                                                              plot_colliding_timesteps=True,\n",
    "                                                              save_plot_colliding_timesteps=Save_Fig)\n"
   ]
  }
 ],
 "metadata": {
  "kernelspec": {
   "display_name": "Python 3 (ipykernel)",
   "language": "python",
   "name": "python3"
  },
  "language_info": {
   "codemirror_mode": {
    "name": "ipython",
    "version": 3
   },
   "file_extension": ".py",
   "mimetype": "text/x-python",
   "name": "python",
   "nbconvert_exporter": "python",
   "pygments_lexer": "ipython3",
   "version": "3.8.8"
  }
 },
 "nbformat": 4,
 "nbformat_minor": 5
}
